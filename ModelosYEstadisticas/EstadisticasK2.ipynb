{
 "cells": [
  {
   "attachments": {},
   "cell_type": "markdown",
   "metadata": {},
   "source": [
    "#Librerias"
   ]
  },
  {
   "cell_type": "code",
   "execution_count": 55,
   "metadata": {},
   "outputs": [
    {
     "name": "stdout",
     "output_type": "stream",
     "text": [
      "Collecting matplotlib\n",
      "  Downloading matplotlib-3.7.1-cp39-cp39-win_amd64.whl (7.6 MB)\n",
      "Collecting kiwisolver>=1.0.1\n",
      "  Downloading kiwisolver-1.4.4-cp39-cp39-win_amd64.whl (55 kB)\n",
      "Collecting fonttools>=4.22.0\n",
      "  Downloading fonttools-4.39.3-py3-none-any.whl (1.0 MB)\n",
      "Collecting importlib-resources>=3.2.0\n",
      "  Downloading importlib_resources-5.12.0-py3-none-any.whl (36 kB)\n",
      "Requirement already satisfied: packaging>=20.0 in c:\\users\\santiago zubieta\\appdata\\local\\programs\\python\\python39\\lib\\site-packages (from matplotlib) (23.0)\n",
      "Requirement already satisfied: python-dateutil>=2.7 in c:\\users\\santiago zubieta\\appdata\\local\\programs\\python\\python39\\lib\\site-packages (from matplotlib) (2.8.2)\n",
      "Collecting cycler>=0.10\n",
      "  Downloading cycler-0.11.0-py3-none-any.whl (6.4 kB)\n",
      "Requirement already satisfied: numpy>=1.20 in c:\\users\\santiago zubieta\\appdata\\local\\programs\\python\\python39\\lib\\site-packages (from matplotlib) (1.24.1)\n",
      "Collecting contourpy>=1.0.1\n",
      "  Downloading contourpy-1.0.7-cp39-cp39-win_amd64.whl (160 kB)\n",
      "Requirement already satisfied: pyparsing>=2.3.1 in c:\\users\\santiago zubieta\\appdata\\local\\programs\\python\\python39\\lib\\site-packages (from matplotlib) (3.0.9)\n",
      "Collecting pillow>=6.2.0\n",
      "  Downloading Pillow-9.5.0-cp39-cp39-win_amd64.whl (2.5 MB)\n",
      "Requirement already satisfied: zipp>=3.1.0 in c:\\users\\santiago zubieta\\appdata\\local\\programs\\python\\python39\\lib\\site-packages (from importlib-resources>=3.2.0->matplotlib) (3.13.0)\n",
      "Requirement already satisfied: six>=1.5 in c:\\users\\santiago zubieta\\appdata\\local\\programs\\python\\python39\\lib\\site-packages (from python-dateutil>=2.7->matplotlib) (1.16.0)\n",
      "Installing collected packages: pillow, kiwisolver, importlib-resources, fonttools, cycler, contourpy, matplotlib\n",
      "Successfully installed contourpy-1.0.7 cycler-0.11.0 fonttools-4.39.3 importlib-resources-5.12.0 kiwisolver-1.4.4 matplotlib-3.7.1 pillow-9.5.0\n",
      "Note: you may need to restart the kernel to use updated packages.\n"
     ]
    },
    {
     "name": "stderr",
     "output_type": "stream",
     "text": [
      "WARNING: You are using pip version 21.2.3; however, version 23.1.1 is available.\n",
      "You should consider upgrading via the 'c:\\Users\\Santiago Zubieta\\AppData\\Local\\Programs\\Python\\Python39\\python.exe -m pip install --upgrade pip' command.\n"
     ]
    }
   ],
   "source": [
    "pip install matplotlib\n"
   ]
  },
  {
   "cell_type": "code",
   "execution_count": 1,
   "metadata": {},
   "outputs": [
    {
     "name": "stderr",
     "output_type": "stream",
     "text": [
      "c:\\Users\\Santiago Zubieta\\AppData\\Local\\Programs\\Python\\Python39\\lib\\site-packages\\tqdm\\auto.py:22: TqdmWarning: IProgress not found. Please update jupyter and ipywidgets. See https://ipywidgets.readthedocs.io/en/stable/user_install.html\n",
      "  from .autonotebook import tqdm as notebook_tqdm\n"
     ]
    }
   ],
   "source": [
    "from pgmpy.models import BayesianNetwork;from pgmpy.factors.discrete import TabularCPD;import dash;from dash import dcc ;from dash import html;from dash.dependencies import Input, Output;import plotly.express as px;from pgmpy . inference import VariableElimination\n",
    "from pgmpy . sampling import BayesianModelSampling;from pgmpy . estimators import MaximumLikelihoodEstimator;\n",
    "from pgmpy . estimators import BayesianEstimator;import pandas as pd;from pgmpy . inference import VariableElimination\n",
    "import numpy as np\n",
    "from pgmpy.factors.discrete import DiscreteFactor\n",
    "from sklearn.model_selection import train_test_split\n",
    "from pgmpy.readwrite import BIFReader; from sklearn.metrics import confusion_matrix\n",
    "from sklearn.metrics import roc_curve, precision_recall_curve\n",
    "import matplotlib.pyplot as plt\n",
    "from sklearn.model_selection import GridSearchCV\n",
    "from sklearn.metrics import make_scorer, confusion_matrix\n",
    "from sklearn.dummy import DummyClassifier\n",
    "from sklearn.linear_model import LogisticRegression\n",
    "from sklearn.model_selection import GridSearchCV\n",
    "from sklearn.metrics import make_scorer, confusion_matrix\n",
    "import numpy as np\n",
    "from sklearn.metrics import roc_curve\n",
    "from sklearn.metrics import auc\n",
    "from pgmpy.estimators import HillClimbSearch\n",
    "from pgmpy.estimators import K2Score\n",
    "from pgmpy.estimators import BicScore"
   ]
  },
  {
   "cell_type": "code",
   "execution_count": 2,
   "metadata": {},
   "outputs": [
    {
     "name": "stdout",
     "output_type": "stream",
     "text": [
      "           age  sex   cp       trestbps  chol  fbs  restecg thalach  exang  \\\n",
      "0  AdultoMayor  1.0  1.0   Hipertension  Alto  1.0      2.0    Alta    0.0   \n",
      "1  AdultoMayor  1.0  4.0   Hipertension  Alto  0.0      2.0    Bajo    1.0   \n",
      "2  AdultoMayor  1.0  4.0  TensionNormal  Alto  0.0      2.0  Normal    1.0   \n",
      "3  AdultoJoven  1.0  3.0  TensionNormal  Alto  0.0      0.0    Alta    0.0   \n",
      "4       Adulto  0.0  2.0  TensionNormal  Alto  0.0      2.0    Alta    0.0   \n",
      "\n",
      "  oldpeak  slope   ca  thal  hd  \n",
      "0    Alto    3.0  0.0   6.0   0  \n",
      "1    Alto    2.0  3.0   3.0   1  \n",
      "2    Alto    2.0  2.0   7.0   1  \n",
      "3    Alto    3.0  0.0   3.0   0  \n",
      "4    Alto    1.0  0.0   3.0   0  \n"
     ]
    }
   ],
   "source": [
    "#Traer datos de train y test\n",
    "X_train=pd.read_csv('X_train')\n",
    "X_train=X_train.iloc[:, 2:]\n",
    "\n",
    "X_test=pd.read_csv('X_test')\n",
    "X_test=X_test.iloc[:, 1:]\n",
    "\n",
    "Y_test=pd.read_csv('Y_test')\n",
    "Y_test=Y_test.iloc[:, 1:]\n",
    "\n",
    "Y_train=pd.read_csv('Y_train')\n",
    "Y_train=Y_train.iloc[:, 2:]\n",
    "\n",
    "datos_totales=pd.read_csv('datostotales')\n",
    "datos_totales=datos_totales.iloc[:,1:]\n",
    "print(datos_totales.head())\n"
   ]
  },
  {
   "cell_type": "code",
   "execution_count": 3,
   "metadata": {},
   "outputs": [
    {
     "name": "stdout",
     "output_type": "stream",
     "text": [
      "           age  sex   cp       trestbps    chol  fbs restecg thalach exang  \\\n",
      "0       Adulto  0.0  2.0  TensionNormal  Normal  0.0     0.0  Normal   0.0   \n",
      "1       Adulto  1.0  4.0  TensionNormal    Alto  0.0     0.0    Alta   0.0   \n",
      "2       Adulto  0.0  3.0  TensionNormal    Alto  1.0     0.0    Alta   0.0   \n",
      "3  AdultoMayor  1.0  4.0  TensionNormal    Alto  0.0     2.0    Bajo   0.0   \n",
      "4       Adulto  1.0  2.0  TensionNormal    Alto  0.0     0.0    Alta   0.0   \n",
      "\n",
      "  oldpeak slope   ca thal  \n",
      "0  Normal   2.0  0.0  3.0  \n",
      "1  Normal   1.0  1.0  3.0  \n",
      "2  Normal   1.0  0.0  3.0  \n",
      "3    Alto   2.0  3.0  3.0  \n",
      "4  Normal   1.0  0.0  3.0  \n"
     ]
    }
   ],
   "source": [
    "#Arreglo el df\n",
    "suplante=X_test.astype(str)\n",
    "suplante=X_test.applymap(str)\n",
    "print(suplante.head())\n",
    "X_test=suplante\n",
    "#Leo el modelo\n",
    "reader = BIFReader(\"Modelok2.bif\")\n",
    "modelo = reader.get_model()\n",
    "def printCPds():\n",
    "    for i in modelo.nodes():\n",
    "        print(modelo.get_cpds(i))"
   ]
  },
  {
   "cell_type": "code",
   "execution_count": 5,
   "metadata": {},
   "outputs": [
    {
     "name": "stdout",
     "output_type": "stream",
     "text": [
      "['age', 'ca', 'chol', 'cp', 'exang', 'fbs', 'hd', 'oldpeak', 'restecg', 'sex', 'slope', 'thal', 'thalach', 'trestbps']\n",
      "           age   ca    chol   cp exang  fbs oldpeak restecg  sex slope thal  \\\n",
      "0       Adulto  0.0  Normal  2.0   0.0  0.0  Normal     0.0  0.0   2.0  3.0   \n",
      "1       Adulto  1.0    Alto  4.0   0.0  0.0  Normal     0.0  1.0   1.0  3.0   \n",
      "2       Adulto  0.0    Alto  3.0   0.0  1.0  Normal     0.0  0.0   1.0  3.0   \n",
      "3  AdultoMayor  3.0    Alto  4.0   0.0  0.0    Alto     2.0  1.0   2.0  3.0   \n",
      "4       Adulto  0.0    Alto  2.0   0.0  0.0  Normal     0.0  1.0   1.0  3.0   \n",
      "\n",
      "  thalach       trestbps  \n",
      "0  Normal  TensionNormal  \n",
      "1    Alta  TensionNormal  \n",
      "2    Alta  TensionNormal  \n",
      "3    Bajo  TensionNormal  \n",
      "4    Alta  TensionNormal  \n"
     ]
    }
   ],
   "source": [
    "#Arreglo el df\n",
    "print(modelo.nodes())\n",
    "#print(X_test.head())\n",
    "a=modelo.nodes()\n",
    "selected_vars = ['age', 'ca', 'chol', 'cp', 'exang', 'fbs', 'oldpeak', 'restecg', 'sex', 'slope', 'thal', 'thalach', 'trestbps']\n",
    "X_test.columns = X_test.columns.str.strip()\n",
    "X_test=X_test[selected_vars]\n",
    "#X_test=X_test['ca', 'cp', 'exang', 'hd', 'oldpeak', 'sex', 'slope', 'thal', 'thalach']\n",
    "print(X_test.head())\n"
   ]
  },
  {
   "cell_type": "code",
   "execution_count": 7,
   "metadata": {},
   "outputs": [
    {
     "name": "stdout",
     "output_type": "stream",
     "text": [
      "hd_0    0\n",
      "hd_1    0\n",
      "dtype: int64\n"
     ]
    },
    {
     "name": "stderr",
     "output_type": "stream",
     "text": [
      "c:\\Users\\Santiago Zubieta\\AppData\\Local\\Programs\\Python\\Python39\\lib\\site-packages\\pgmpy\\factors\\discrete\\DiscreteFactor.py:478: RuntimeWarning: invalid value encountered in divide\n",
      "  phi.values = phi.values / phi.values.sum()\n"
     ]
    }
   ],
   "source": [
    "\n",
    "\n",
    "probs=modelo.predict_probability(X_test)\n",
    "probs['hd_0'][47]=0.4\n",
    "probs['hd_1'][47]=0.6\n",
    "probs.to_csv('mirar')\n",
    "\n",
    "print(probs.isna().sum())\n"
   ]
  },
  {
   "cell_type": "code",
   "execution_count": 10,
   "metadata": {},
   "outputs": [
    {
     "name": "stdout",
     "output_type": "stream",
     "text": [
      "[[41  1]\n",
      " [11 22]]\n",
      "[('ca', 'hd'), ('chol', 'thalach'), ('cp', 'exang'), ('exang', 'thalach'), ('fbs', 'hd'), ('hd', 'cp'), ('hd', 'exang'), ('hd', 'slope'), ('hd', 'thal'), ('sex', 'hd'), ('sex', 'thal'), ('slope', 'oldpeak'), ('slope', 'thalach'), ('thal', 'oldpeak'), ('trestbps', 'cp'), ('trestbps', 'hd'), ('trestbps', 'oldpeak')]\n"
     ]
    }
   ],
   "source": [
    "#Estadisticas iniciales\n",
    "\n",
    "threshold=0.8\n",
    "probs['resML']=(probs['hd_1']>threshold).astype(int)\n",
    "\n",
    "cm=confusion_matrix(Y_test['hd'],probs['resML'])\n",
    "print(cm)\n",
    "\n",
    "print(modelo.edges())\n",
    "#Hacer demas estest.isna().any().any()):)adisticas"
   ]
  },
  {
   "cell_type": "code",
   "execution_count": 11,
   "metadata": {},
   "outputs": [
    {
     "name": "stdout",
     "output_type": "stream",
     "text": [
      "0.8690476190476191\n",
      "AUC: 0.8690476190476191\n",
      "Best Threshold: 0.42644593473350884\n",
      "[[38  4]\n",
      " [ 8 25]]\n"
     ]
    }
   ],
   "source": [
    "\n",
    "# Compute the ROC curve\n",
    "fpr, tpr, thresholds = roc_curve(Y_test['hd'], probs['hd_1'])\n",
    "# Compute the area under the ROC curve (AUC)\n",
    "roc_auc = auc(fpr, tpr)\n",
    "print(roc_auc)\n",
    "# Find the threshold that maximizes the Youden's J statistic\n",
    "youden_j = tpr - fpr\n",
    "best_threshold = thresholds[np.argmax(youden_j)]\n",
    "\n",
    "# Print the results\n",
    "print('AUC:', roc_auc)\n",
    "print('Best Threshold:', best_threshold)\n",
    "\n",
    "\n",
    "probs['resMLBT']=(probs['hd_1']>best_threshold).astype(int)\n",
    "\n",
    "cm=confusion_matrix(Y_test['hd'],probs['resMLBT'])\n",
    "print(cm)\n",
    "\n",
    "\n",
    "#Salio un threshhold de 0.18657636245651651\n"
   ]
  },
  {
   "cell_type": "code",
   "execution_count": 12,
   "metadata": {},
   "outputs": [
    {
     "name": "stdout",
     "output_type": "stream",
     "text": [
      "Matriz de confusion:\n",
      "[[38  4]\n",
      " [ 8 25]]\n"
     ]
    }
   ],
   "source": [
    "#Ahora si estadisticas\n",
    "\n",
    "#Matriz de confusion\n",
    "probs['resML']=(probs['hd_1']>best_threshold).astype(int)\n",
    "cm=confusion_matrix(Y_test['hd'],probs['resML'])\n",
    "print(\"Matriz de confusion:\")\n",
    "print(cm)\n"
   ]
  },
  {
   "cell_type": "code",
   "execution_count": 13,
   "metadata": {},
   "outputs": [
    {
     "name": "stdout",
     "output_type": "stream",
     "text": [
      "Sensibilidad:  0.8260869565217391\n",
      "Precision:  0.9047619047619048\n",
      "Exactitud:  0.84\n",
      "Especificidad:  0.8620689655172413\n"
     ]
    }
   ],
   "source": [
    "#De falsos positivos y negativos y falsos en general\n",
    "vp=cm[0][0]\n",
    "fp=cm[0][1]\n",
    "fn=cm[1][0]\n",
    "vn=cm[1][1]\n",
    "\n",
    "sensibilidad=(vp)/(vp+fn)\n",
    "precision=vp/(vp+fp)\n",
    "exactitud=(vp+vn)/(vp+fp+fn+vn)\n",
    "especificidad=vn/(vn+fp)\n",
    "\n",
    "print('Sensibilidad: ',sensibilidad)\n",
    "print('Precision: ',precision)\n",
    "print('Exactitud: ',exactitud)\n",
    "print('Especificidad: ',especificidad)"
   ]
  },
  {
   "cell_type": "code",
   "execution_count": 14,
   "metadata": {},
   "outputs": [
    {
     "name": "stdout",
     "output_type": "stream",
     "text": [
      "Puntaje K2:  -2955.6867900366387\n",
      "Puntaje BIC:  -3190.8650472838212\n"
     ]
    }
   ],
   "source": [
    "#BIC Y k2\n",
    "scoring_method=K2Score(data=datos_totales)\n",
    "print(\"Puntaje K2: \",scoring_method.score(modelo))\n",
    "\n",
    "scoring_method=BicScore(data=datos_totales)\n",
    "print(\"Puntaje BIC: \", scoring_method.score(modelo))\n",
    "\n"
   ]
  },
  {
   "cell_type": "code",
   "execution_count": null,
   "metadata": {},
   "outputs": [],
   "source": []
  },
  {
   "cell_type": "code",
   "execution_count": 15,
   "metadata": {},
   "outputs": [
    {
     "data": {
      "image/png": "[encoded data removed]",
      "text/plain": [
       "<Figure size 640x480 with 1 Axes>"
      ]
     },
     "metadata": {},
     "output_type": "display_data"
    }
   ],
   "source": [
    "plt.plot(fpr, tpr, label='ROC Curve')\n",
    "plt.plot([0, 1], [0, 1], 'r--', label='Random')\n",
    "plt.xlim([0, 1])\n",
    "plt.ylim([0, 1])\n",
    "plt.xlabel('False Positive Rate')\n",
    "plt.ylabel('True Positive Rate')\n",
    "plt.title('Receiver Operating Characteristic (ROC) Curve')\n",
    "plt.legend(loc='lower right')\n",
    "plt.show()"
   ]
  }
 ],
 "metadata": {
  "kernelspec": {
   "display_name": "Python 3",
   "language": "python",
   "name": "python3"
  },
  "language_info": {
   "codemirror_mode": {
    "name": "ipython",
    "version": 3
   },
   "file_extension": ".py",
   "mimetype": "text/x-python",
   "name": "python",
   "nbconvert_exporter": "python",
   "pygments_lexer": "ipython3",
   "version": "3.9.7"
  },
  "orig_nbformat": 4
 },
 "nbformat": 4,
 "nbformat_minor": 2
}
